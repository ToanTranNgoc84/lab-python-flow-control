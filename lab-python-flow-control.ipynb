{
 "cells": [
  {
   "cell_type": "markdown",
   "id": "d3bfc191-8885-42ee-b0a0-bbab867c6f9f",
   "metadata": {
    "tags": []
   },
   "source": [
    "# Lab | Flow Control"
   ]
  },
  {
   "cell_type": "markdown",
   "id": "3851fcd1-cf98-4653-9c89-e003b7ec9400",
   "metadata": {},
   "source": [
    "## Exercise: Managing Customer Orders Optimized\n",
    "\n",
    "In the last lab, you were starting an online store that sells various products. To ensure smooth operations, you developed a program that manages customer orders and inventory.\n",
    "\n",
    "You did so without using flow control. Let's go a step further and improve this code.\n",
    "\n",
    "Follow the steps below to complete the exercise:\n",
    "\n",
    "1. Look at your code from the lab data structures, and improve repeated code with loops.\n",
    "\n",
    "2. Instead of asking the user to input the name of three products that a customer wants to order, do the following:\n",
    "    \n",
    "    a. Prompt the user to enter the name of a product that a customer wants to order.\n",
    "    \n",
    "    b. Add the product name to the \"customer_orders\" set.\n",
    "    \n",
    "    c. Ask the user if they want to add another product (yes/no).\n",
    "    \n",
    "    d. Continue the loop until the user does not want to add another product.\n",
    "\n",
    "3. Instead of updating the inventory by subtracting 1 from the quantity of each product, only do it for  the products that were ordered (those in \"customer_orders\")."
   ]
  },
  {
   "cell_type": "code",
   "execution_count": 68,
   "id": "b70b9a34-2de7-4e37-a5c6-b68b916ecb45",
   "metadata": {},
   "outputs": [
    {
     "name": "stdin",
     "output_type": "stream",
     "text": [
      "Please enter the quantitiy for:t-shirt available: 2\n",
      "Please enter the quantitiy for:mug available: 6\n",
      "Please enter the quantitiy for:hat available: 7\n",
      "Please enter the quantitiy for:book available: 8\n",
      "Please enter the quantitiy for:keychain available: 9\n",
      "Please enter the name of a product you want to order (t-shirt, mug, hat, book, keychain):  book\n",
      "Enter the quantity of book you want to order:  4\n",
      "Do you want to add another product? (yes/no):  yes\n",
      "Please enter the name of a product you want to order (t-shirt, mug, hat, book, keychain):  hat\n",
      "Enter the quantity of hat you want to order:  3\n",
      "Do you want to add another product? (yes/no):  no\n"
     ]
    },
    {
     "name": "stdout",
     "output_type": "stream",
     "text": [
      "\n",
      "Products ordered:\n",
      "book: 4\n",
      "hat: 3\n",
      "This was 21.88% percentage of the inventory\n",
      "This is the order statistic:\n",
      "Total Products Ordered: 7\n",
      "Percentage of Products Ordered: 21.88%\n",
      "Updated Inventory:\n",
      "dict_items([('t-shirt', 2), ('mug', 6), ('hat', 4), ('book', 4), ('keychain', 9)])\n"
     ]
    }
   ],
   "source": [
    "# we define a list called products which contains the items\n",
    "products = [\"t-shirt\", \"mug\", \"hat\", \"book\", \"keychain\"]\n",
    "\n",
    "# now we define an empty dictionary \n",
    "inventory = {}\n",
    "\n",
    "# ask user to input the quantity of each product \n",
    "# Use the product names from the products list as keys in the inventory dictionary and assign the respective quantities as values.\n",
    "for product in products:\n",
    "    quantity = int(input(\"Please enter the quantitiy for:\" + product + \" available:\"))\n",
    "    inventory[product] = quantity \n",
    "\n",
    "# we have to create a dictionary to store product and quantity of product\n",
    "customer_orders = {}\n",
    "\n",
    "# Instead of asking the user to input the name of three products that a customer wants to order, do the following:\n",
    "    # Prompt the user to enter the name of a product that a customer wants to order.\n",
    "    # Add the product name to the \"customer_orders\" set.\n",
    "    # Ask the user if they want to add another product (yes/no).\n",
    "    # Continue the loop until the user does not want to add another products\n",
    "\n",
    "while True:\n",
    "    product_name = input(\"Please enter the name of a product you want to order (t-shirt, mug, hat, book, keychain): \")\n",
    "    quantity_ordered = int(input(f\"Enter the quantity of {product_name} you want to order: \"))\n",
    "    customer_orders[product_name] = quantity_ordered\n",
    "    add_another = input(\"Do you want to add another product? (yes/no): \")\n",
    "    if add_another.lower() != 'yes':\n",
    "        break\n",
    "\n",
    "# Print the products in the customer_orders dictionary\n",
    "print(\"\\nProducts ordered:\")\n",
    "for product, quantity in customer_orders.items():\n",
    "    print(f\"{product}: {quantity}\")\n",
    "\n",
    "\n",
    "# Calculate the total products ordered (The total number of products in the customer_orders set)\n",
    "total_products_ordered = sum(customer_orders.values())\n",
    "\n",
    "\n",
    "# Calculate the percentage of products ordered (the percentage of products ordered compared to the total available products)\n",
    "total_inventory = sum(inventory.values())\n",
    "percentage_ordered = total_products_ordered / total_inventory * 100\n",
    "order_status = (total_products_ordered, percentage_ordered)\n",
    "\n",
    "# Store these statistics in a tuple called order_status\n",
    "#print(\"The customer has ordered:\" +  str(sum(customer_orders.values()))\n",
    "print(f\"This was {percentage_ordered:.2f}% percentage of the inventory\")\n",
    "\n",
    "\n",
    "#Print the order statistics using the following format:\n",
    "#Order Statistics:\n",
    "#Total Products Ordered: <total_products_ordered>\n",
    "#Percentage of Products Ordered: <percentage_ordered>% \n",
    "print(\"This is the order statistic:\")\n",
    "print(f\"Total Products Ordered: {total_products_ordered}\")\n",
    "print(f\"Percentage of Products Ordered: {percentage_ordered:.2f}%\")\n",
    "\n",
    "\n",
    "#Print the updated inventory, displaying the quantity of each product on separate lines.\n",
    "print(\"Updated Inventory:\")\n",
    "for product, quantity in customer_orders.items():\n",
    "    inventory[product] -= quantity\n",
    "print(inventory.items())\n"
   ]
  },
  {
   "cell_type": "code",
   "execution_count": null,
   "id": "ca5ee1d6-7dd7-47e7-97f6-a7e357588e37",
   "metadata": {},
   "outputs": [],
   "source": []
  },
  {
   "cell_type": "code",
   "execution_count": null,
   "id": "590804c4-25f4-4cde-843b-9d01d58c2107",
   "metadata": {},
   "outputs": [],
   "source": []
  }
 ],
 "metadata": {
  "kernelspec": {
   "display_name": "Python 3 (ipykernel)",
   "language": "python",
   "name": "python3"
  },
  "language_info": {
   "codemirror_mode": {
    "name": "ipython",
    "version": 3
   },
   "file_extension": ".py",
   "mimetype": "text/x-python",
   "name": "python",
   "nbconvert_exporter": "python",
   "pygments_lexer": "ipython3",
   "version": "3.11.7"
  }
 },
 "nbformat": 4,
 "nbformat_minor": 5
}
